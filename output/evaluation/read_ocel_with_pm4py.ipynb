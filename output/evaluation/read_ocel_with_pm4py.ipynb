{
 "cells": [
  {
   "cell_type": "code",
   "execution_count": 2,
   "id": "0fe421e1",
   "metadata": {},
   "outputs": [],
   "source": [
    "#!pip install pm4py\n",
    "import pm4py"
   ]
  },
  {
   "cell_type": "code",
   "execution_count": 3,
   "id": "a51acab4",
   "metadata": {},
   "outputs": [],
   "source": [
    "ocel = pm4py.read_ocel(\"runningexampleitems.csv.jsonocel\")"
   ]
  },
  {
   "cell_type": "code",
   "execution_count": null,
   "id": "b1f295d6",
   "metadata": {},
   "outputs": [],
   "source": [
    "print(ocel)"
   ]
  }
 ],
 "metadata": {
  "kernelspec": {
   "display_name": "Python 3",
   "language": "python",
   "name": "python3"
  },
  "language_info": {
   "codemirror_mode": {
    "name": "ipython",
    "version": 3
   },
   "file_extension": ".py",
   "mimetype": "text/x-python",
   "name": "python",
   "nbconvert_exporter": "python",
   "pygments_lexer": "ipython3",
   "version": "3.7.7"
  }
 },
 "nbformat": 4,
 "nbformat_minor": 5
}
